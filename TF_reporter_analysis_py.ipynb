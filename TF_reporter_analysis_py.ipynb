{
 "cells": [
  {
   "cell_type": "markdown",
   "metadata": {},
   "source": [
    "# TF reporter activity analysis\n",
    "### Aim\n",
    "~36,000 reporters for 86 TFs were transfected into 9 different cell types & tested in 97 different perturbation conditions. In this script I will analyze TF reporter activities in detail and review how individual reporters respond to TF concentration variations."
   ]
  },
  {
   "cell_type": "markdown",
   "metadata": {},
   "source": [
    "---\n",
    "Load libraries"
   ]
  },
  {
   "cell_type": "code",
   "execution_count": 8,
   "metadata": {},
   "outputs": [],
   "source": [
    "# Load libraries:\n",
    "import matplotlib.pyplot as plt  # Equivalent to RColorBrewer and ggplot2\n",
    "import pandas as pd  # Equivalent to dplyr, tibble, and readr\n",
    "import seaborn as sns  # Equivalent to pheatmap and ggpubr\n",
    "import plotly  # Equivalent to plotly\n",
    "import numpy as np  # Equivalent to maditr\n",
    "from sklearn.ensemble import RandomForestClassifier  # Equivalent to randomForest\n",
    "from sklearn.metrics import roc_curve, auc  # Equivalent to pROC\n",
    "import string  # Equivalent to stringr\n",
    "from scipy.stats import iqr  # Equivalent to IHW\n",
    "import re  # Equivalent to stringr"
   ]
  },
  {
   "cell_type": "markdown",
   "metadata": {},
   "source": [
    "---\n",
    "**Load data frames**"
   ]
  },
  {
   "cell_type": "code",
   "execution_count": 9,
   "metadata": {},
   "outputs": [
    {
     "ename": "SyntaxError",
     "evalue": "keyword argument repeated (<string>, line 18)",
     "output_type": "error",
     "traceback": [
      "\u001b[0;31m---------------------------------------------------------------------------\u001b[0m\n\u001b[0;31mSyntaxError\u001b[0m                               Traceback (most recent call last)",
      "File \u001b[0;34m/DATA/usr/m.trauernicht/software/miniconda3/envs/myenv/lib/python3.7/ast.py\u001b[0m, in \u001b[0;32mparse\u001b[0m:\nLine \u001b[0;34m35\u001b[0m:    \u001b[34mreturn\u001b[39;49;00m \u001b[36mcompile\u001b[39;49;00m(source, filename, mode, PyCF_ONLY_AST)\n",
      "\u001b[0;31mSyntaxError\u001b[0m: keyword argument repeated (<string>, line 18)\n\u001b[0;31m---------------------------------------------------------------------------\u001b[0m"
     ]
    }
   ],
   "source": [
    "# Import processed bc counts from the preprocessing step\n",
    "cDNA_df = pd.read_csv(\"/DATA/usr/m.trauernicht/projects/SuRE-TF/data/gcf7124_stimulations/results/mt20240124_reporter_activity_filt_combined.csv\")\n",
    "\n",
    "# We are not going to use NIH3T3 data, so remove it for now\n",
    "cDNA_df = cDNA_df[cDNA_df['cell'] != \"NIH3T3\"]\n",
    "\n",
    "# Rename stimulation status of control conditions\n",
    "cDNA_df['stimulation'].fillna(\"no\", inplace=True)\n",
    "\n",
    "# Load RNA-seq data\n",
    "tf_rna = pd.read_csv(\"/DATA/usr/m.trauernicht/data/RNA_seq/rna_tpm_all_tfs.tsv\", sep='\\t')\n",
    "\n",
    "# Prepare data frame for following analyses\n",
    "cDNA_df2 = cDNA_df.copy()\n",
    "cDNA_df2['tf'] = cDNA_df2['tf'].apply(lambda x: re.sub(\"_.*\", \"\", x))\n",
    "cDNA_df2 = cDNA_df2[(cDNA_df2['neg_ctrls'] == \"No\") &\n",
    "                    (cDNA_df2['hPGK'] == \"No\") &\n",
    "                    (~cDNA_df2['tf'].str.contains('RANDOM', case=False, regex=False, na=False, flags=0, regex=True, default=True)) &\n",
    "                    (cDNA_df2['native_enhancer'] == \"No\")]\n",
    "cDNA_df2['reporter_activity_minP'] = cDNA_df2['reporter_activity_minP'].apply(lambda x: np.log2(x))\n",
    "cDNA_df2 = cDNA_df2.drop_duplicates(subset=['tf', 'condition', 'stimulation', 'reference_condition', 'tf_target', 'effect_size', 'off_target',\n",
    "                                             'cell', 'reporter_id', 'commercial_reporter', 'reporter_activity_minP', 'gcf', 'reporter_dif_minP'])\n",
    "cDNA_df2 = cDNA_df2.drop_duplicates()\n",
    "\n",
    "# Define optimal candidate conditions for each TF: either the highest expressing cell line, or the stimulated condition\n",
    "ref_conditions1 = cDNA_df2[cDNA_df2['tf_target'] == 1].drop_duplicates(subset=['tf', 'condition', 'cell', 'reporter_id', 'commercial_reporter', 'reporter_activity_minP'])\n",
    "ref_conditions1 = ref_conditions1.groupby(['tf', 'condition']).apply(lambda x: x.sort_values('reporter_activity_minP', ascending=False).head(10))\n",
    "ref_conditions1 = ref_conditions1.groupby('tf').apply(lambda x: x.sort_values('median_reporter_activity_minP', ascending=False).head(1))\n",
    "ref_conditions1 = ref_conditions1[['tf', 'condition']].drop_duplicates()\n",
    "\n",
    "ref_conditions2 = pd.merge(cDNA_df2[cDNA_df2['stimulation'] == \"no\"], tf_rna.rename(columns={'tf': 'tf'}), on=['cell', 'tf'])\n",
    "ref_conditions2['mean_reporter_activity_minP'] = ref_conditions2.groupby(['tf', 'condition'])['reporter_activity_minP'].transform('median')\n",
    "ref_conditions2 = ref_conditions2.drop_duplicates(subset=['mean_reporter_activity_minP', 'tf', 'condition', 'nTPM'])\n",
    "ref_conditions2 = ref_conditions2.groupby('tf').apply(lambda x: x.sort_values('nTPM', ascending=False).head(3))\n",
    "ref_conditions2 = ref_conditions2.groupby('tf').apply(lambda x: x.sort_values('mean_reporter_activity_minP', ascending=False).head(2))\n",
    "ref_conditions2 = ref_conditions2[['tf', 'condition']].drop_duplicates()\n",
    "\n",
    "ref_conditions = pd.concat([ref_conditions1, ref_conditions2])\n",
    "ref_conditions = ref_conditions[['tf', 'condition']].drop_duplicates()\n",
    "\n",
    "# Data frame with off-target activities\n",
    "off_target_activities = cDNA_df2[cDNA_df2['tf_target'] == 2]\n",
    "off_target_activities = off_target_activities[~((off_target_activities['tf'] == \"SOX2\") & (off_target_activities['condition'] == \"mES_POU2F1\"))]\n",
    "off_target_activities['effect_size'] = pd.to_numeric(off_target_activities['effect_size'], errors='coerce')\n",
    "off_target_activities['effect_size'] = off_target_activities['effect_size'].fillna(0)\n",
    "off_target_activities['reporter_dif_mean'] = off_target_activities.groupby(['tf', 'condition'])['reporter_dif_minP'].transform(lambda x: np.median(x.dropna()))\n",
    "off_target_activities['reporter_dif_mean'] = np.where(off_target_activities['effect_size'] == 0, -off_target_activities['reporter_dif_mean'], off_target_activities['reporter_dif_mean'])\n",
    "off_target_activities = off_target_activities.groupby('tf').apply(lambda x: x.sort_values('reporter_dif_mean', ascending=False).head(1))\n",
    "off_target_activities = off_target_activities[['reporter_id', 'tf', 'commercial_reporter', 'reporter_dif_minP', 'condition', 'effect_size']]\n",
    "off_target_activities = off_target_activities.drop_duplicates()\n",
    "\n",
    "on_target_activities = cDNA_df2[cDNA_df2['tf_target'] == 1]\n",
    "on_target_activities['effect_size'] = pd.to_numeric(on_target_activities['effect_size'], errors='coerce')\n",
    "on_target_activities['reporter_dif_mean'] = on_target_activities.groupby(['tf', 'condition'])['reporter_dif_minP'].transform(lambda x: np.median(x.dropna()))\n",
    "on_target_activities['reporter_dif_mean'] = np.where(on_target_activities['effect_size'] == 0, -on_target_activities['reporter_dif_mean'], on_target_activities['reporter_dif_mean'])\n",
    "on_target_activities = on_target_activities.groupby('tf').apply(lambda x: x.sort_values('reporter_dif_mean', ascending=False).head(1))\n",
    "on_target_activities = on_target_activities[['reporter_id', 'tf', 'commercial_reporter', 'reporter_dif_minP', 'condition', 'effect_size']]\n",
    "on_target_activities = on_target_activities.drop_duplicates()\n"
   ]
  },
  {
   "cell_type": "markdown",
   "metadata": {},
   "source": [
    "### Plot activities per cell type\n",
    "\n",
    "Aim: Show that there are differences in activities between cell types"
   ]
  },
  {
   "cell_type": "markdown",
   "metadata": {},
   "source": [
    "# Filter and transform cDNA_df\n",
    "cDNA_df2 = cDNA_df.loc[\n",
    "    (cDNA_df['stimulation'] == 'no') &\n",
    "    (cDNA_df['commercial_reporter'] == 'No') &\n",
    "    (cDNA_df['hPGK'] == 'No') &\n",
    "    (~cDNA_df['tf'].str.contains('RANDOM', case=False, regex=False, na=False, flags=0, regex=True, default=True)) &\n",
    "    (cDNA_df['native_enhancer'] == 'No')\n",
    "].drop_duplicates(subset=['tf', 'reporter_activity_minP', 'cell', 'reporter_id', 'neg_ctrls'])\n",
    "cDNA_df2['reporter_activity_minP'] = cDNA_df2.groupby(['cell', 'reporter_id'])['reporter_activity_minP'].transform('mean')\n",
    "cDNA_df2['reporter_activity_minP'] = np.log2(cDNA_df2['reporter_activity_minP'])\n",
    "cDNA_df2 = cDNA_df2.drop_duplicates()\n",
    "\n",
    "# Plot activities per cell type\n",
    "cell_order = [\"A549\", \"K562\", \"HCT116\", \"MCF7\", \"HepG2\", \"U2OS\", \"HEK293\", \"mES\", \"NPC\", \"NIH3T3\"]\n",
    "plt.figure(figsize=(10, 8))\n",
    "sns.kdeplot(data=cDNA_df2, x='reporter_activity_minP', fill='neg_ctrls', alpha=0.4, common_norm=False)\n",
    "sns.FacetGrid(data=cDNA_df2, col='cell', col_wrap=2, col_order=cell_order).map(sns.kdeplot, 'reporter_activity_minP', fill='neg_ctrls', alpha=0.4)\n",
    "plt.fill_between([-10, 10], 0, 1, color='grey70', label='Yes')\n",
    "plt.fill_between([-10, 10], 0, 1, color='#DD6B48', label='No')\n",
    "plt.legend()\n",
    "plt.show()\n",
    "\n",
    "# Figure S1G: Compare TF reporters to native enhancer controls\n",
    "native_activities = cDNA_df.loc[\n",
    "    (cDNA_df['condition'] == 'mES_2i_LIF') &\n",
    "    (cDNA_df['neg_ctrls'] == 'No')\n",
    "].drop_duplicates(subset=['reporter_id', 'tf', 'reporter_activity_minP', 'condition'])\n",
    "native_activities['tf'] = native_activities['tf'].str.replace('_.*', '', regex=True)\n",
    "native_activities['native_enhancer'] = np.where(native_activities['tf'].isin(['e97', 'e6', 'e19', 'e11', 'e93']), native_activities['tf'], 'tf_reporter')\n",
    "native_activities['native_enhancer2'] = np.where(native_activities['native_enhancer'] == 'tf_reporter', native_activities['native_enhancer'], 'native_enhancer')\n",
    "\n",
    "plt.figure(figsize=(10, 8))\n",
    "sns.stripplot(data=native_activities, x='native_enhancer2', y=np.log2(native_activities['reporter_activity_minP']), rasterized=True, color='black', size=0.5)\n",
    "sns.boxplot(data=native_activities, x='native_enhancer2', y=np.log2(native_activities['reporter_activity_minP']), color='red', width=0.25, linewidth=0.4)\n",
    "plt.show()\n",
    "\n",
    "# Figure S2A: Median TF activities in all 9 cell types\n",
    "tf_activities_median = cDNA_df.loc[\n",
    "    (cDNA_df['stimulation'] == 'no') &\n",
    "    (cDNA_df['neg_ctrls'] == 'No') &\n",
    "    (cDNA_df['commercial_reporter'] == 'No') &\n",
    "    (cDNA_df['hPGK'] == 'No') &\n",
    "    (~cDNA_df['tf'].str.contains('RANDOM', case=False, regex=False, na=False, flags=0, regex=True, default=True)) &\n",
    "    (cDNA_df['native_enhancer'] == 'No')\n",
    "].drop_duplicates(subset=['tf', 'reporter_activity_minP', 'cell', 'neg_ctrls'])\n",
    "tf_activities_median['reporter_activity_minP'] = tf_activities_median.groupby(['cell', 'tf'])['reporter_activity_minP'].transform('median')\n",
    "tf_activities_median['reporter_activity_minP'] = np.log2(tf_activities_median['reporter_activity_minP'])\n",
    "tf_activities_median = tf_activities_median.drop_duplicates(subset=['reporter_activity_minP', 'tf', 'cell'])\n",
    "\n",
    "plt.figure(figsize=(10, 8))\n",
    "sns.barplot(data=tf_activities_median, x='cell', y='reporter_activity_minP', hue='reporter_activity_minP', dodge=False)\n",
    "plt.yscale('log')\n",
    "plt.xticks(rotation=90)\n",
    "plt.show()\n"
   ]
  }
 ],
 "metadata": {
  "kernelspec": {
   "display_name": "xpython",
   "language": "python",
   "name": "xpython"
  },
  "language_info": {
   "file_extension": ".py",
   "mimetype": "text/x-python",
   "name": "python",
   "version": "3.7.6"
  }
 },
 "nbformat": 4,
 "nbformat_minor": 2
}
