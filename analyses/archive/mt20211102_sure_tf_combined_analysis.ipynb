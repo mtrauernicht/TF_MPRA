{
 "cells": [
  {
   "cell_type": "code",
   "execution_count": 5,
   "id": "8feff640",
   "metadata": {},
   "outputs": [],
   "source": [
    "import numpy as np\n",
    "import seaborn as sns\n",
    "import matplotlib.pyplot as plt"
   ]
  },
  {
   "cell_type": "code",
   "execution_count": 9,
   "id": "c620d118",
   "metadata": {},
   "outputs": [],
   "source": [
    "# My theme\n",
    "\n",
    "my_theme = {'axes.grid': True,\n",
    "              'grid.linestyle': '--',\n",
    "              'legend.framealpha': 1,\n",
    "              'legend.facecolor': 'white',\n",
    "              'legend.shadow': True,\n",
    "              'legend.fontsize': 14,\n",
    "              'legend.title_fontsize': 16,\n",
    "              'xtick.labelsize': 14,\n",
    "              'ytick.labelsize': 14,\n",
    "              'axes.labelsize': 16,\n",
    "              'axes.titlesize': 20,\n",
    "              'figure.dpi': 100}\n",
    "\n",
    "plt.rcParams.update(my_theme)"
   ]
  },
  {
   "cell_type": "code",
   "execution_count": 7,
   "id": "f6480e45",
   "metadata": {},
   "outputs": [
    {
     "ename": "AttributeError",
     "evalue": "module 'seaborn' has no attribute 'set_theme'",
     "output_type": "error",
     "traceback": [
      "\u001b[0;31m---------------------------------------------------------------------------\u001b[0m",
      "\u001b[0;31mAttributeError\u001b[0m                            Traceback (most recent call last)",
      "\u001b[0;32m<ipython-input-7-4a12891e9f06>\u001b[0m in \u001b[0;36m<module>\u001b[0;34m\u001b[0m\n\u001b[0;32m----> 1\u001b[0;31m \u001b[0msns\u001b[0m\u001b[0;34m.\u001b[0m\u001b[0mset_theme\u001b[0m\u001b[0;34m(\u001b[0m\u001b[0;34m)\u001b[0m\u001b[0;34m\u001b[0m\u001b[0;34m\u001b[0m\u001b[0m\n\u001b[0m",
      "\u001b[0;31mAttributeError\u001b[0m: module 'seaborn' has no attribute 'set_theme'"
     ]
    }
   ],
   "source": []
  },
  {
   "cell_type": "code",
   "execution_count": null,
   "id": "19cbbeb4",
   "metadata": {},
   "outputs": [],
   "source": []
  },
  {
   "cell_type": "code",
   "execution_count": null,
   "id": "36f33172",
   "metadata": {},
   "outputs": [],
   "source": []
  },
  {
   "cell_type": "code",
   "execution_count": null,
   "id": "c1b9a74a",
   "metadata": {},
   "outputs": [],
   "source": []
  }
 ],
 "metadata": {
  "kernelspec": {
   "display_name": "Python",
   "language": "python",
   "name": "myenv"
  },
  "language_info": {
   "codemirror_mode": {
    "name": "ipython",
    "version": 3
   },
   "file_extension": ".py",
   "mimetype": "text/x-python",
   "name": "python",
   "nbconvert_exporter": "python",
   "pygments_lexer": "ipython3",
   "version": "3.7.7"
  }
 },
 "nbformat": 4,
 "nbformat_minor": 5
}
