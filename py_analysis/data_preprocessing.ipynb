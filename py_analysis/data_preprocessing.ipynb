{
 "cells": [
  {
   "cell_type": "markdown",
   "metadata": {},
   "source": [
    "# TF reporter activity analysis\n",
    "### Aim\n",
    "~36,000 reporters for 86 TFs were transfected into 9 different cell types & tested in 97 different perturbation conditions. In this script I will analyze TF reporter activities in detail and review how individual reporters respond to TF concentration variations.\n",
    "\n",
    "### Data preprocessing"
   ]
  },
  {
   "cell_type": "markdown",
   "metadata": {},
   "source": [
    "---\n",
    "Load libraries"
   ]
  },
  {
   "cell_type": "code",
   "execution_count": 22,
   "metadata": {},
   "outputs": [],
   "source": [
    "# Load libraries:\n",
    "import matplotlib.pyplot as plt  # Equivalent to RColorBrewer and ggplot2\n",
    "import pandas as pd  # Equivalent to dplyr, tibble, and readr\n",
    "import seaborn as sns  # Equivalent to pheatmap and ggpubr\n",
    "import plotly  # Equivalent to plotly\n",
    "import numpy as np  # Equivalent to maditr\n",
    "import string  # Equivalent to stringr\n",
    "import re  # Equivalent to stringr\n",
    "import warnings\n",
    "warnings.filterwarnings('ignore')\n",
    "from scipy.stats import pearsonr\n",
    "from statsmodels.stats.multitest import multipletests"
   ]
  },
  {
   "cell_type": "markdown",
   "metadata": {},
   "source": [
    "---\n",
    "**Load data frames**"
   ]
  },
  {
   "cell_type": "code",
   "execution_count": 5,
   "metadata": {},
   "outputs": [],
   "source": [
    "# Import processed bc counts from the preprocessing step\n",
    "cDNA_df = pd.read_csv(\"/DATA/usr/m.trauernicht/projects/SuRE-TF/data/gcf7124_stimulations/results/mt20240124_reporter_activity_filt_combined.csv\")\n",
    "\n",
    "# We are not going to use NIH3T3 data, so remove it for now\n",
    "cDNA_df = cDNA_df[cDNA_df['cell'] != \"NIH3T3\"]\n",
    "\n",
    "# Rename stimulation status of control conditions\n",
    "cDNA_df['stimulation'].fillna(\"no\", inplace=True)\n",
    "\n",
    "# Load RNA-seq data\n",
    "tf_rna = pd.read_csv(\"/DATA/usr/m.trauernicht/data/RNA_seq/rna_tpm_all_tfs.tsv\", sep='\\t')\n",
    "\n",
    "# Prepare data frame for following analyses\n",
    "cDNA_df2 = cDNA_df.copy()\n",
    "cDNA_df2['tf'] = cDNA_df2['tf'].str.replace('_.*', '', regex=True)\n",
    "cDNA_df2 = cDNA_df2.loc[\n",
    "    (cDNA_df2['neg_ctrls'] == \"No\") &\n",
    "    (cDNA_df2['hPGK'] == \"No\") &\n",
    "    (~cDNA_df2['tf'].str.contains('RANDOM', case=False, na=False)) &\n",
    "    (cDNA_df2['native_enhancer'] == \"No\")]\n",
    "cDNA_df2 = cDNA_df2[['tf', 'condition', 'stimulation', 'reference_condition', 'tf_target', 'effect_size', 'off_target', 'cell', 'reporter_id', 'commercial_reporter', 'reporter_activity_minP', 'gcf', 'reporter_dif_minP']]\n",
    "cDNA_df2['reporter_activity_minP'] = cDNA_df2['reporter_activity_minP'].apply(lambda x: np.log2(x))\n",
    "cDNA_df2 = cDNA_df2.drop_duplicates()\n",
    "\n",
    "#cDNA_df2"
   ]
  },
  {
   "cell_type": "markdown",
   "metadata": {},
   "source": [
    "---\n",
    "**Load reference activities**"
   ]
  },
  {
   "cell_type": "code",
   "execution_count": 6,
   "metadata": {},
   "outputs": [],
   "source": [
    "## Define optimal candidate conditions for each TF: either the highest expressing cell line, or the stimulated condition\n",
    "### Select most active stimulation condition per TF\n",
    "ref_conditions1 = cDNA_df2[cDNA_df2['tf_target'] == 1]\n",
    "ref_conditions1 = ref_conditions1[['tf', 'condition', 'cell', 'reporter_id', 'commercial_reporter', 'reporter_activity_minP']]\n",
    "ref_conditions1 = ref_conditions1.drop_duplicates()\n",
    "ref_conditions1 = ref_conditions1.groupby(['tf', 'condition']).apply(lambda x: x.sort_values(by='reporter_activity_minP', ascending=False))\n",
    "ref_conditions1.reset_index(drop=True, inplace=True)\n",
    "ref_conditions1 = ref_conditions1.groupby(['tf', 'condition']).head(10)\n",
    "ref_conditions1['median_reporter_activity_minP'] = ref_conditions1.groupby(['tf', 'condition'])['reporter_activity_minP'].transform('median')\n",
    "ref_conditions1.reset_index(drop=True, inplace=True)\n",
    "ref_conditions1 = ref_conditions1.groupby(['tf']).head(1)\n",
    "ref_conditions1 = ref_conditions1[['tf', 'condition']]\n",
    "ref_conditions1 = ref_conditions1.drop_duplicates()\n",
    "\n",
    "### Top 3 conditions per TF based on highest TPM and highest median reporter activity\n",
    "ref_conditions2 = pd.merge(cDNA_df2[cDNA_df2['stimulation'] == \"no\"], tf_rna.rename(columns={'tf': 'tf'}), on=['cell', 'tf'])\n",
    "ref_conditions2['mean_reporter_activity_minP'] = ref_conditions2.groupby(['tf', 'condition'])['reporter_activity_minP'].transform('median')\n",
    "ref_conditions2 = ref_conditions2[['mean_reporter_activity_minP', 'tf', 'condition', 'nTPM']].drop_duplicates()\n",
    "ref_conditions2 = ref_conditions2.groupby(['tf']).apply(lambda x: x.sort_values('nTPM', ascending=False))\n",
    "ref_conditions2.reset_index(drop=True, inplace=True)\n",
    "ref_conditions2 = ref_conditions2.groupby(['tf']).head(3)\n",
    "ref_conditions2 = ref_conditions2.groupby('tf').apply(lambda x: x.sort_values('mean_reporter_activity_minP', ascending=False))\n",
    "ref_conditions2.reset_index(drop=True, inplace=True)\n",
    "ref_conditions2 = ref_conditions2.groupby(['tf']).head(2)\n",
    "\n",
    "ref_conditions2 = ref_conditions2[['tf', 'condition']].drop_duplicates()\n",
    "\n",
    "ref_conditions = pd.concat([ref_conditions1, ref_conditions2])\n",
    "ref_conditions = ref_conditions[['tf', 'condition']].drop_duplicates()\n",
    "\n",
    "new_data = pd.DataFrame({\n",
    "    'tf': [\"PAX6\", \"ESRRB\", \"SMAD4\", \"GATA1\", \"RUNX2\", \"NR5A2\", \"SMAD2::SMAD3::SMAD4\", \"RFX1\",\n",
    "           \"FOXO1\", \"FOSL1\", \"ETS2\", \"ONECUT1\"],\n",
    "    'condition': [\"HepG2_NT\", \"mES_serum_2i_LIF\", \"HepG2_NT\", \"K562_Hemin\", \"U2OS\", \"mES_2i_LIF\", \"HepG2_NT\", \"mES_2i_LIF\",\n",
    "                  \"mES_FOXA1-OE\", \"mES_2i_LIF\", \"HepG2_NT\", \"HepG2_NT\"]\n",
    "})\n",
    "\n",
    "ref_conditions = pd.concat([ref_conditions, new_data])\n",
    "\n",
    "ref_conditions = ref_conditions.sort_values('tf')\n",
    "\n",
    "#ref_conditions"
   ]
  },
  {
   "cell_type": "markdown",
   "metadata": {},
   "source": [
    "---\n",
    "**Load perturbation fold-changes**"
   ]
  },
  {
   "cell_type": "code",
   "execution_count": 7,
   "metadata": {},
   "outputs": [],
   "source": [
    "# Data frame with off-target activities\n",
    "off_target_activities = cDNA_df2[cDNA_df2['tf_target'] == 2]\n",
    "off_target_activities = off_target_activities[~((off_target_activities['tf'] == \"SOX2\") & (off_target_activities['condition'] == \"mES_POU2F1\"))]\n",
    "off_target_activities['effect_size'] = pd.to_numeric(off_target_activities['effect_size'], errors='coerce')\n",
    "off_target_activities['effect_size'] = off_target_activities['effect_size'].fillna(0)\n",
    "off_target_activities['reporter_dif_mean'] = off_target_activities.groupby(['tf', 'condition'])['reporter_dif_minP'].transform(lambda x: np.median(x.dropna()))\n",
    "off_target_activities['reporter_dif_mean'] = np.where(off_target_activities['effect_size'] == 0, -off_target_activities['reporter_dif_mean'], off_target_activities['reporter_dif_mean'])\n",
    "off_target_activities = off_target_activities.groupby('tf').apply(lambda x: x.sort_values('reporter_dif_mean', ascending=False).head(1))\n",
    "off_target_activities = off_target_activities[['reporter_id', 'tf', 'commercial_reporter', 'reporter_dif_minP', 'condition', 'effect_size']]\n",
    "off_target_activities = off_target_activities.drop_duplicates()\n",
    "\n",
    "#off_target_activities\n",
    "\n",
    "on_target_activities = cDNA_df2[cDNA_df2['tf_target'] == 1]\n",
    "on_target_activities['effect_size'] = pd.to_numeric(on_target_activities['effect_size'], errors='coerce')\n",
    "on_target_activities['reporter_dif_mean'] = on_target_activities.groupby(['tf', 'condition'])['reporter_dif_minP'].transform(lambda x: np.median(x.dropna()))\n",
    "on_target_activities['reporter_dif_mean'] = np.where(on_target_activities['effect_size'] == 0, -on_target_activities['reporter_dif_mean'], on_target_activities['reporter_dif_mean'])\n",
    "on_target_activities = on_target_activities.groupby('tf').apply(lambda x: x.sort_values('reporter_dif_mean', ascending=False).head(1))\n",
    "on_target_activities = on_target_activities[['reporter_id', 'tf', 'commercial_reporter', 'reporter_dif_minP', 'condition', 'effect_size']]\n",
    "on_target_activities = on_target_activities.drop_duplicates()\n",
    "\n",
    "#on_target_activities"
   ]
  },
  {
   "cell_type": "markdown",
   "metadata": {},
   "source": [
    "---\n",
    "**Load RNA-seq data**"
   ]
  },
  {
   "cell_type": "code",
   "execution_count": 24,
   "metadata": {},
   "outputs": [],
   "source": [
    "# Prepare tf reporter data frame\n",
    "cDNA_df2 = cDNA_df.copy()\n",
    "cDNA_df2 = cDNA_df2[(cDNA_df2['neg_ctrls'] == \"No\") &\n",
    "                    (cDNA_df2['stimulation'] == \"no\") &\n",
    "                    (cDNA_df2['hPGK'] == \"No\") &\n",
    "                    (~cDNA_df2['tf'].str.contains('RANDOM', case=False, na=False)) &\n",
    "                    (cDNA_df2['native_enhancer'] == \"No\")]\n",
    "cDNA_df2 = cDNA_df2[['tf', 'reporter_activity_minP', 'cell', 'reporter_id', 'commercial_reporter', 'spacing', 'promoter', 'background', 'distance']]\n",
    "cDNA_df2['reporter_activity_minP'] = cDNA_df2.groupby(['cell', 'reporter_id'])['reporter_activity_minP'].transform('mean')\n",
    "cDNA_df2['reporter_activity_minP'] = np.log2(cDNA_df2['reporter_activity_minP'])\n",
    "cDNA_df2 = cDNA_df2.drop_duplicates()\n",
    "cDNA_df2['tf'] = cDNA_df2['tf'].str.replace('_.*', '', regex=True)\n",
    "\n",
    "\n",
    "# Combine TF reporter data with RNA-seq data\n",
    "cDNA_df3 = pd.merge(cDNA_df2, tf_rna, how='left')\n",
    "cDNA_df3['TPM'] = cDNA_df3['TPM'].fillna(0)\n",
    "cDNA_df3['nTPM'] = cDNA_df3['nTPM'].fillna(0)\n",
    "\n",
    "# Compute pearson correlations for each individual reporter of reporter activity vs. nTPM counts across the nine cell types\n",
    "for i in cDNA_df3['reporter_id'].unique():\n",
    "    if cDNA_df3[cDNA_df3['reporter_id'] == i].shape[0] > 4:\n",
    "        cor, p_value = pearsonr(2**cDNA_df3[cDNA_df3['reporter_id'] == i]['reporter_activity_minP'],\n",
    "                                cDNA_df3[cDNA_df3['reporter_id'] == i]['nTPM'])\n",
    "        cDNA_df3.loc[cDNA_df3['reporter_id'] == i, 'cor_pval'] = p_value\n",
    "        cDNA_df3.loc[cDNA_df3['reporter_id'] == i, 'cor'] = cor\n",
    "    else:\n",
    "        cDNA_df3.loc[cDNA_df3['reporter_id'] == i, 'cor_pval'] = 1\n",
    "        cDNA_df3.loc[cDNA_df3['reporter_id'] == i, 'cor'] = 0\n",
    "\n",
    "\n",
    "\n",
    "# Set all negative correlations to zero\n",
    "cDNA_df3['cor_pval'] = np.where(cDNA_df3['cor_pval'] == cDNA_df3['cor'], 1, cDNA_df3['cor_pval'])\n",
    "cDNA_df3['cor_pval_fdr'] = cDNA_df3.groupby('tf')['cor_pval'].transform(lambda x: multipletests(x, method='fdr_bh')[1])\n",
    "cDNA_df3['cor_pval'] = np.where(cDNA_df3['cor'] < 0, 1, cDNA_df3['cor_pval'])\n",
    "cDNA_df3['cor_pval_fdr'] = np.where(cDNA_df3['cor'] < 0, 1, cDNA_df3['cor_pval_fdr'])\n",
    "cDNA_df3['cor_pval'] = -np.log10(cDNA_df3['cor_pval'])\n",
    "cDNA_df3['cor_pval_fdr'] = -np.log10(cDNA_df3['cor_pval_fdr'])\n",
    "cDNA_df3['cor_pval'] = np.where(cDNA_df3['cor_pval'].isna(), 1, cDNA_df3['cor_pval'])\n",
    "cDNA_df3['cor_pval_fdr'] = np.where(cDNA_df3['cor_pval_fdr'].isna(), 1, cDNA_df3['cor_pval_fdr'])\n",
    "cDNA_df3['cor'] = np.where(cDNA_df3['cor'].isna(), 1, cDNA_df3['cor'])\n",
    "\n",
    "# Filter for TFs where correlations actually make sense\n",
    "rna_correlations_df = cDNA_df3.copy()\n",
    "rna_correlations_df['min_TPM'] = rna_correlations_df.groupby('tf')['nTPM'].transform('min')\n",
    "rna_correlations_df['max_TPM'] = rna_correlations_df.groupby('tf')['nTPM'].transform('max')\n",
    "rna_correlations_df['dif_TPM'] = rna_correlations_df['max_TPM'] - rna_correlations_df['min_TPM']\n",
    "rna_correlations_df['mean_tf_activity'] = rna_correlations_df.groupby(['tf', 'cell'])['reporter_activity_minP'].transform('mean')\n",
    "rna_correlations_df['max_mean_tf_activity'] = rna_correlations_df.groupby('tf')['mean_tf_activity'].transform('max')\n",
    "rna_correlations_df['reasonable'] = np.where((rna_correlations_df['max_TPM'] > 8) &\n",
    "                                             (rna_correlations_df['dif_TPM'] > 5) &\n",
    "                                             (rna_correlations_df['min_TPM'] < 1) &\n",
    "                                             (rna_correlations_df['max_mean_tf_activity'] > 0.75) |\n",
    "                                             (rna_correlations_df['tf'].isin([\"GATA1\", \"NFATC1\", \"GLI1\", \"STAT3\", \"SP1\", \"FOXA1\", \"TEAD1\", \"NFKB1\", \"ZFX\", \"NR4A1\"])),\n",
    "                                             \"Yes\", \"No\")\n",
    "rna_correlations_df['reasonable'] = np.where(rna_correlations_df['tf'].isin([\"TCF7L2\", \"TCF7\", \"TFEB\", \"TP53\", \"GATA3\", \"CEBPA\"]),\n",
    "                                             \"No\", rna_correlations_df['reasonable'])\n",
    "\n",
    "reasonable_corr = rna_correlations_df[rna_correlations_df['reasonable'] == \"No\"]\n",
    "\n",
    "# Export correlations\n",
    "rna_correlations = rna_correlations_df[rna_correlations_df['reasonable'] == \"Yes\"]\n",
    "rna_correlations = rna_correlations[['reporter_id', 'cor_pval', 'cor']]\n",
    "rna_correlations['cor_pval'] = np.where(rna_correlations['reporter_id'].isin(reasonable_corr['reporter_id']), 0, rna_correlations['cor_pval'])\n",
    "rna_correlations['cor'] = np.where(rna_correlations['reporter_id'].isin(reasonable_corr['reporter_id']), 0, rna_correlations['cor'])\n",
    "\n",
    "# Write to file\n",
    "rna_correlations.to_csv(\"/DATA/usr/m.trauernicht/projects/SuRE-TF/data/rna_correlations.tsv\", sep='\\t', index=False)\n",
    "rna_correlations_df.to_csv(\"/DATA/usr/m.trauernicht/projects/SuRE-TF/data/rna_correlations_df.tsv\", sep='\\t', index=False)"
   ]
  },
  {
   "cell_type": "code",
   "execution_count": 29,
   "metadata": {},
   "outputs": [],
   "source": [
    "rna_correlations_df.to_csv(\"/DATA/usr/m.trauernicht/projects/SuRE-TF/data/rna_correlations_df.tsv\", sep='\\t', index=False)"
   ]
  }
 ],
 "metadata": {
  "kernelspec": {
   "display_name": "Python 3",
   "language": "python",
   "name": "python3"
  },
  "language_info": {
   "codemirror_mode": {
    "name": "ipython",
    "version": 3
   },
   "file_extension": ".py",
   "mimetype": "text/x-python",
   "name": "python",
   "nbconvert_exporter": "python",
   "pygments_lexer": "ipython3",
   "version": "3.11.8"
  }
 },
 "nbformat": 4,
 "nbformat_minor": 2
}
